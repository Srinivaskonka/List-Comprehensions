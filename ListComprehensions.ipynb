{
 "cells": [
  {
   "cell_type": "code",
   "execution_count": null,
   "id": "4fad5f62-4718-4310-9011-7e958d8428de",
   "metadata": {},
   "outputs": [],
   "source": [
    "list comprehensions\n",
    "[list ,dictionary,set and nexted comprehensions]\n",
    "what are comprehensions:\n",
    "concise way to create collections in single line"
   ]
  },
  {
   "cell_type": "markdown",
   "id": "17d9da00-811a-4fab-9789-a22d2203f3b7",
   "metadata": {},
   "source": [
    "### List Comprehensions"
   ]
  },
  {
   "cell_type": "code",
   "execution_count": null,
   "id": "d2ecabc8-e950-4914-a2bb-c60d1fb0686c",
   "metadata": {},
   "outputs": [],
   "source": [
    "[expression for item in iterable if condition]"
   ]
  },
  {
   "cell_type": "code",
   "execution_count": null,
   "id": "cccf6efa-a0ae-47e1-a1d9-679e6390bb46",
   "metadata": {},
   "outputs": [],
   "source": [
    ": Basic List Comprehension (No condition)"
   ]
  },
  {
   "cell_type": "code",
   "execution_count": 6,
   "id": "72a76d4d-0ffa-4963-ac57-1b1b76e50759",
   "metadata": {},
   "outputs": [
    {
     "data": {
      "text/plain": [
       "[2, 3, 4, 5, 6, 7]"
      ]
     },
     "execution_count": 6,
     "metadata": {},
     "output_type": "execute_result"
    }
   ],
   "source": [
    "x=[1,2,3,4,5,6]\n",
    "x=[ n+1 for n in x]       # basic comprehenions\n",
    "x"
   ]
  },
  {
   "cell_type": "code",
   "execution_count": 7,
   "id": "d75c8d9b-585f-4f97-b621-9d82ed242f42",
   "metadata": {},
   "outputs": [
    {
     "data": {
      "text/plain": [
       "[1, 4, 9, 16]"
      ]
     },
     "execution_count": 7,
     "metadata": {},
     "output_type": "execute_result"
    }
   ],
   "source": [
    "# square a number \n",
    "x=[1,2,3,4]\n",
    "x=[i*i for i in x]\n",
    "x"
   ]
  },
  {
   "cell_type": "code",
   "execution_count": null,
   "id": "ee1d82ef-d0f0-41fd-b8a6-ea848ccc301e",
   "metadata": {},
   "outputs": [],
   "source": [
    " With if-else Condition (Inline)\n",
    "[Include all elements but transform differently based on condition.]"
   ]
  },
  {
   "cell_type": "code",
   "execution_count": 8,
   "id": "bfdfc6c1-d790-46e0-965c-3855c59e80e4",
   "metadata": {},
   "outputs": [
    {
     "data": {
      "text/plain": [
       "['odd', 'even', 'odd', 'even', 'odd', 'even']"
      ]
     },
     "execution_count": 8,
     "metadata": {},
     "output_type": "execute_result"
    }
   ],
   "source": [
    "x=[1,2,3,4,5,6]\n",
    "x=[\"even\" if i%2==0 else \"odd\" for i in x]\n",
    "x\n",
    "\n",
    "#You cannot combine this with filtering; this is transformation only."
   ]
  },
  {
   "cell_type": "code",
   "execution_count": null,
   "id": "e7f07c9b-edac-4f27-8e65-1e8d34ad4489",
   "metadata": {},
   "outputs": [],
   "source": [
    ": Nested List Comprehension    # for matrix"
   ]
  },
  {
   "cell_type": "code",
   "execution_count": 10,
   "id": "351389b5-0273-43b0-9926-65689279aa7b",
   "metadata": {},
   "outputs": [
    {
     "data": {
      "text/plain": [
       "[1, 2, 2, 3]"
      ]
     },
     "execution_count": 10,
     "metadata": {},
     "output_type": "execute_result"
    }
   ],
   "source": [
    "x=[[1,2],[2,3]]\n",
    "x=[ j for i in  x for j in i]    # matrix first for loop with given list and after inner loop\n",
    "x"
   ]
  },
  {
   "cell_type": "code",
   "execution_count": null,
   "id": "fa23ece8-c67d-458a-a2f6-ddf303a22d09",
   "metadata": {},
   "outputs": [],
   "source": [
    " List of Tuples using Comprehension"
   ]
  },
  {
   "cell_type": "code",
   "execution_count": 11,
   "id": "8ffe1fb3-c2ac-4753-ac3a-837ac6f39fce",
   "metadata": {},
   "outputs": [
    {
     "data": {
      "text/plain": [
       "[(0, 0), (0, 1), (0, 2), (1, 0), (1, 1), (1, 2)]"
      ]
     },
     "execution_count": 11,
     "metadata": {},
     "output_type": "execute_result"
    }
   ],
   "source": [
    "x=[(i,j) for i in range(2) for j in range(3)]\n",
    "x"
   ]
  },
  {
   "cell_type": "code",
   "execution_count": null,
   "id": "505e9c60-dd56-445e-b145-af688de82d13",
   "metadata": {},
   "outputs": [],
   "source": [
    ": Using List Comprehension with Strings"
   ]
  },
  {
   "cell_type": "code",
   "execution_count": 12,
   "id": "20306b06-b73f-4211-bf57-4562420ac6ce",
   "metadata": {},
   "outputs": [
    {
     "data": {
      "text/plain": [
       "['S', 'R', 'I', 'N', 'I', 'V', 'A', 'S']"
      ]
     },
     "execution_count": 12,
     "metadata": {},
     "output_type": "execute_result"
    }
   ],
   "source": [
    "x=\"srinivas\"\n",
    "x=[i.upper() for i in x]\n",
    "x"
   ]
  },
  {
   "cell_type": "code",
   "execution_count": null,
   "id": "e2c98569-2c5c-45d7-a8ff-5b333ab3c583",
   "metadata": {},
   "outputs": [],
   "source": [
    "Multiple Conditions"
   ]
  },
  {
   "cell_type": "code",
   "execution_count": 13,
   "id": "6b84aaca-476f-45a4-834f-5b0dfe2932b5",
   "metadata": {},
   "outputs": [
    {
     "name": "stdout",
     "output_type": "stream",
     "text": [
      "[0, 6, 12, 18]\n"
     ]
    }
   ],
   "source": [
    "nums = [x for x in range(20) if x % 2 == 0 if x % 3 == 0]\n",
    "print(nums)  # ➤ [0, 6, 12, 18]\n"
   ]
  },
  {
   "cell_type": "code",
   "execution_count": null,
   "id": "418a7af6-ddc9-47c5-a00a-626bfabc87a9",
   "metadata": {},
   "outputs": [],
   "source": [
    " List Comprehension with range() and steps\n"
   ]
  },
  {
   "cell_type": "code",
   "execution_count": null,
   "id": "87654da4-ddc2-495e-a807-58db172b3f68",
   "metadata": {},
   "outputs": [],
   "source": [
    "odd = [i for i in range(1, 20, 2)]\n",
    "print(odd)  # ➤ [1, 3, 5, 7, 9, 11, 13, 15, 17, 19]\n"
   ]
  },
  {
   "cell_type": "code",
   "execution_count": null,
   "id": "255da923-6bf3-4484-a31a-07b0792fed16",
   "metadata": {},
   "outputs": [],
   "source": [
    "List Comprehension with zip()"
   ]
  },
  {
   "cell_type": "code",
   "execution_count": null,
   "id": "2951319f-68d3-41b3-a080-8db35874fd6a",
   "metadata": {},
   "outputs": [],
   "source": [
    "names = [\"Ram\", \"Shyam\"]\n",
    "scores = [85, 90]\n",
    "combined = [f\"{n}:{s}\" for n, s in zip(names, scores)]\n",
    "print(combined)  # ➤ ['Ram:85', 'Shyam:90']\n"
   ]
  },
  {
   "cell_type": "code",
   "execution_count": null,
   "id": "47913469-9ffd-4468-9833-32dce83a2a53",
   "metadata": {},
   "outputs": [],
   "source": [
    "List Comprehension with enumerate()"
   ]
  },
  {
   "cell_type": "code",
   "execution_count": null,
   "id": "b845afe6-c88e-4843-9578-ef7d20ea3602",
   "metadata": {},
   "outputs": [],
   "source": [
    "names = [\"Apple\", \"Banana\", \"Cherry\"]\n",
    "with_index = [f\"{i}: {fruit}\" for i, fruit in enumerate(names)]\n",
    "print(with_index)  # ➤ ['0: Apple', '1: Banana', '2: Cherry']\n"
   ]
  },
  {
   "cell_type": "code",
   "execution_count": null,
   "id": "2e0bf53f-3b3e-4fbe-9aae-a4f4e48ab506",
   "metadata": {},
   "outputs": [],
   "source": [
    " Filtering None or empty values\n"
   ]
  },
  {
   "cell_type": "code",
   "execution_count": null,
   "id": "c4e11416-c3e7-40eb-9dd8-2db565576256",
   "metadata": {},
   "outputs": [],
   "source": [
    "data = [\"hello\", \"\", None, \"world\"]\n",
    "cleaned = [x for x in data if x]\n",
    "print(cleaned)  # ➤ ['hello', 'world']\n"
   ]
  },
  {
   "cell_type": "code",
   "execution_count": null,
   "id": "6d4be157-d28f-4dbb-b1f8-85d217e9c76e",
   "metadata": {},
   "outputs": [],
   "source": [
    "isdigit(), isalpha(), etc."
   ]
  },
  {
   "cell_type": "code",
   "execution_count": null,
   "id": "347bdff0-3fb9-4428-b9ce-a40568659c8f",
   "metadata": {},
   "outputs": [],
   "source": [
    "s = \"abc123$%\"\n",
    "only_digits = [char for char in s if char.isdigit()]\n",
    "print(only_digits)  # ➤ ['1', '2', '3']\n"
   ]
  },
  {
   "cell_type": "code",
   "execution_count": null,
   "id": "47f175b9-f21e-4850-ac28-4a8306d0edf6",
   "metadata": {},
   "outputs": [],
   "source": [
    " Using List Comprehension for File I/O"
   ]
  },
  {
   "cell_type": "code",
   "execution_count": null,
   "id": "6288209b-b3df-48d2-9517-35b04456b517",
   "metadata": {},
   "outputs": [],
   "source": [
    "with open(\"file.txt\") as f:\n",
    "    lines = [line.strip() for line in f]\n",
    "Removes \\n and keeps each line clean."
   ]
  },
  {
   "cell_type": "code",
   "execution_count": null,
   "id": "39b7d10d-70c8-4c9a-983e-7a00b7430a2d",
   "metadata": {},
   "outputs": [],
   "source": []
  },
  {
   "cell_type": "code",
   "execution_count": null,
   "id": "8857356f-c144-4015-9526-53070b7980a2",
   "metadata": {},
   "outputs": [],
   "source": []
  },
  {
   "cell_type": "code",
   "execution_count": null,
   "id": "640d95a1-7e8f-4842-89a0-02e833d3b60f",
   "metadata": {},
   "outputs": [],
   "source": []
  },
  {
   "cell_type": "code",
   "execution_count": null,
   "id": "2098895c-f7e9-4172-a9f7-f994c89f863f",
   "metadata": {},
   "outputs": [],
   "source": []
  },
  {
   "cell_type": "code",
   "execution_count": null,
   "id": "9face82c-9cb1-4fab-95dd-0ec054c4df75",
   "metadata": {},
   "outputs": [],
   "source": []
  }
 ],
 "metadata": {
  "kernelspec": {
   "display_name": "Python [conda env:base] *",
   "language": "python",
   "name": "conda-base-py"
  },
  "language_info": {
   "codemirror_mode": {
    "name": "ipython",
    "version": 3
   },
   "file_extension": ".py",
   "mimetype": "text/x-python",
   "name": "python",
   "nbconvert_exporter": "python",
   "pygments_lexer": "ipython3",
   "version": "3.13.5"
  }
 },
 "nbformat": 4,
 "nbformat_minor": 5
}
